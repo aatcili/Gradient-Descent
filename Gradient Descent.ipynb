{
 "cells": [
  {
   "cell_type": "markdown",
   "metadata": {},
   "source": [
    "#### What is Gradient Descent? \n",
    "Gradient descent is an optimization algorithm used to minimize some function by iteratively moving in the direction of steepest descent as defined by the negative of the gradient. In machine learning, we use gradient descent to update the parameters of our model. Parameters refer to coefficients in Linear Regression and weights in neural networks.\n"
   ]
  },
  {
   "cell_type": "code",
   "execution_count": 1,
   "metadata": {},
   "outputs": [],
   "source": [
    "import numpy as np"
   ]
  },
  {
   "cell_type": "markdown",
   "metadata": {},
   "source": [
    "#### Lets see what is gradient descent"
   ]
  },
  {
   "cell_type": "markdown",
   "metadata": {},
   "source": [
    "$$ e= (y- \\hat{y})**2$$\n",
    "$$ \\hat{y} = Xb$$\n",
    "$$ e= (y- Xb)**2$$\n",
    "$$ \\frac{de}{db}= 2(y- Xb)(-X)$$"
   ]
  },
  {
   "cell_type": "markdown",
   "metadata": {},
   "source": [
    " #### Not its time for us to describe the funcfion of gradient descent"
   ]
  },
  {
   "cell_type": "code",
   "execution_count": 2,
   "metadata": {},
   "outputs": [],
   "source": [
    "def gradient_descent (X, y,tolerance=10**-6,  learning_rate=0.01, max_iter=10000, normalize=False):\n",
    "    if normalize:\n",
    "        X= X/y\n",
    "        y=y/y\n",
    "    iter_ = 0\n",
    "    a= np.random.random()\n",
    "    print(\"a = \", a)\n",
    "    gradient=10\n",
    "    old_gradient=20  # old_gradient > gradient\n",
    "    while (abs(gradient) > tolerance) and (max_iter > iter_):\n",
    "        gradient = 2*(y-X*a)* (-X)\n",
    "        if abs(old_gradient) < abs(gradient):\n",
    "            print(\"Gradient became bigger and bigger\")\n",
    "            break\n",
    "        a = a - learning_rate * gradient\n",
    "        iter_ += 1\n",
    "        old_gradient = gradient\n",
    "    print(\"Gradient = \",  gradient)\n",
    "    print(\"Iter= \", iter_)\n",
    "    return round(a,6)\n",
    "    "
   ]
  },
  {
   "cell_type": "code",
   "execution_count": 3,
   "metadata": {},
   "outputs": [
    {
     "name": "stdout",
     "output_type": "stream",
     "text": [
      "a =  0.0616501782198029\n",
      "Gradient =  -1.822597334277809e-06\n",
      "Iter=  10000\n"
     ]
    },
    {
     "data": {
      "text/plain": [
       "3.999985"
      ]
     },
     "execution_count": 3,
     "metadata": {},
     "output_type": "execute_result"
    }
   ],
   "source": [
    "gradient_descent(3,12, normalize=True)"
   ]
  },
  {
   "cell_type": "code",
   "execution_count": 4,
   "metadata": {},
   "outputs": [
    {
     "name": "stdout",
     "output_type": "stream",
     "text": [
      "a =  0.05092180920004352\n",
      "Gradient =  -9.221392933689287e-07\n",
      "Iter=  183\n"
     ]
    },
    {
     "data": {
      "text/plain": [
       "0.5"
      ]
     },
     "execution_count": 4,
     "metadata": {},
     "output_type": "execute_result"
    }
   ],
   "source": [
    "gradient_descent(1200,600, normalize=True)"
   ]
  },
  {
   "cell_type": "code",
   "execution_count": 5,
   "metadata": {},
   "outputs": [
    {
     "name": "stdout",
     "output_type": "stream",
     "text": [
      "a =  0.7836965860838945\n",
      "Gradient =  -9.996709709314545e-07\n",
      "Iter=  9892\n"
     ]
    },
    {
     "data": {
      "text/plain": [
       "99.995007"
      ]
     },
     "execution_count": 5,
     "metadata": {},
     "output_type": "execute_result"
    }
   ],
   "source": [
    "gradient_descent(8,800, learning_rate=5,normalize=True)"
   ]
  },
  {
   "cell_type": "markdown",
   "metadata": {},
   "source": [
    "#### Lets see what happens when gradient > old_gradient"
   ]
  },
  {
   "cell_type": "code",
   "execution_count": 6,
   "metadata": {},
   "outputs": [
    {
     "name": "stdout",
     "output_type": "stream",
     "text": [
      "a =  0.7608906816411808\n",
      "Gradient became bigger and bigger\n",
      "Gradient =  -58.30396773045875\n",
      "Iter=  0\n"
     ]
    },
    {
     "data": {
      "text/plain": [
       "0.760891"
      ]
     },
     "execution_count": 6,
     "metadata": {},
     "output_type": "execute_result"
    }
   ],
   "source": [
    "gradient_descent(3,12, learning_rate=0.1) "
   ]
  }
 ],
 "metadata": {
  "kernelspec": {
   "display_name": "Python 3",
   "language": "python",
   "name": "python3"
  },
  "language_info": {
   "codemirror_mode": {
    "name": "ipython",
    "version": 3
   },
   "file_extension": ".py",
   "mimetype": "text/x-python",
   "name": "python",
   "nbconvert_exporter": "python",
   "pygments_lexer": "ipython3",
   "version": "3.7.6"
  }
 },
 "nbformat": 4,
 "nbformat_minor": 2
}
