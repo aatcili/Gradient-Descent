{
 "cells": [
  {
   "cell_type": "markdown",
   "metadata": {},
   "source": [
    "#### What is Gradient Descent? \n",
    "Gradient descent is an optimization algorithm used to minimize some function by iteratively moving in the direction of steepest descent as defined by the negative of the gradient. In machine learning, we use gradient descent to update the parameters of our model. Parameters refer to coefficients in Linear Regression and weights in neural networks.\n"
   ]
  },
  {
   "cell_type": "code",
   "execution_count": 1,
   "metadata": {},
   "outputs": [],
   "source": [
    "import numpy as np\n",
    "import matplotlib.pyplot as plt"
   ]
  },
  {
   "cell_type": "markdown",
   "metadata": {},
   "source": [
    "#### Lets see what is gradient descent"
   ]
  },
  {
   "cell_type": "markdown",
   "metadata": {},
   "source": [
    "$$ e= (y- \\hat{y})**2$$\n",
    "$$ \\hat{y} = Xb$$\n",
    "$$ e= (y- Xb)**2$$\n",
    "$$ \\frac{de}{db}= 2(y- Xb)(-X)$$"
   ]
  },
  {
   "cell_type": "markdown",
   "metadata": {},
   "source": [
    " #### Not its time for us to describe the funcfion of gradient descent"
   ]
  },
  {
   "cell_type": "code",
   "execution_count": 2,
   "metadata": {},
   "outputs": [],
   "source": [
    "def gradient_descent (X, y,tolerance=10**-6,  learning_rate=0.01, max_iter=10000, normalize=False, verbose=0,\n",
    "                      return_errors=False):\n",
    "    if normalize:\n",
    "        X= X/y\n",
    "        y=y/y\n",
    "    iter_ = 0\n",
    "    a= np.random.random()\n",
    "    print(\"a = \", a)\n",
    "    gradient=10\n",
    "    old_gradient=float(\"inf\")  # old_gradient > gradient\n",
    "    errors = []\n",
    "    while (abs(gradient) > tolerance) and (max_iter > iter_):\n",
    "        errors.append((y-X*a)**2)\n",
    "        gradient = 2*(y-X*a)* (-X)\n",
    "        if abs(old_gradient) < abs(gradient):\n",
    "            print(\"Gradient became bigger and bigger\")\n",
    "            print('Gradient difference:', gradient)\n",
    "            break\n",
    "        a = a - learning_rate * gradient\n",
    "        iter_ += 1\n",
    "        old_gradient = gradient\n",
    "        if iter_ % 100 == 0:\n",
    "            print(f'Gradient at iter {iter_}:', gradient)\n",
    "    print(\"Gradient = \",  gradient)\n",
    "    print(\"Iter= \", iter_)\n",
    "    \n",
    "    if return_errors:\n",
    "        return round(a,6), errors\n",
    "    return round(a,6)\n",
    "    "
   ]
  },
  {
   "cell_type": "code",
   "execution_count": 3,
   "metadata": {},
   "outputs": [
    {
     "name": "stdout",
     "output_type": "stream",
     "text": [
      "a =  0.10410896524493207\n",
      "Gradient at iter 100: -0.43026820462583204\n",
      "Gradient at iter 200: -0.37968066940798606\n",
      "Gradient at iter 300: -0.3350408168027612\n",
      "Gradient at iter 400: -0.295649365291338\n",
      "Gradient at iter 500: -0.26088924934966495\n",
      "Gradient at iter 600: -0.23021595314152282\n",
      "Gradient at iter 700: -0.20314898069956794\n",
      "Gradient at iter 800: -0.1792643289750796\n",
      "Gradient at iter 900: -0.15818784584703505\n",
      "Gradient at iter 1000: -0.1395893690439885\n",
      "Gradient at iter 1100: -0.12317755416519605\n",
      "Gradient at iter 1200: -0.10869531078214434\n",
      "Gradient at iter 1300: -0.09591577512719607\n",
      "Gradient at iter 1400: -0.084638756281675\n",
      "Gradient at iter 1500: -0.07468760019307363\n",
      "Gradient at iter 1600: -0.06590642239633354\n",
      "Gradient at iter 1700: -0.05815766608988926\n",
      "Gradient at iter 1800: -0.05131994731383305\n",
      "Gradient at iter 1900: -0.04528615347500137\n",
      "Gradient at iter 2000: -0.0399617654324555\n",
      "Gradient at iter 2100: -0.035263376858892304\n",
      "Gradient at iter 2200: -0.03111738768383643\n",
      "Gradient at iter 2300: -0.027458851151460406\n",
      "Gradient at iter 2400: -0.024230456432231484\n",
      "Gradient at iter 2500: -0.021381630851043387\n",
      "Gradient at iter 2600: -0.01886774766826732\n",
      "Gradient at iter 2700: -0.01664942700364863\n",
      "Gradient at iter 2800: -0.014691918952044969\n",
      "Gradient at iter 2900: -0.012964559227543304\n",
      "Gradient at iter 3000: -0.011440288808636678\n",
      "Gradient at iter 3100: -0.010095230059728011\n",
      "Gradient at iter 3200: -0.008908312688915287\n",
      "Gradient at iter 3300: -0.007860943682706623\n",
      "Gradient at iter 3400: -0.006936716047201252\n",
      "Gradient at iter 3500: -0.006121151793181845\n",
      "Gradient at iter 3600: -0.005401475138987699\n",
      "Gradient at iter 3700: -0.004766412378402307\n",
      "Gradient at iter 3800: -0.00420601527849368\n",
      "Gradient at iter 3900: -0.003711505240939994\n",
      "Gradient at iter 4000: -0.0032751357856357632\n",
      "Gradient at iter 4100: -0.0028900712023877673\n",
      "Gradient at iter 4200: -0.0025502794697869757\n",
      "Gradient at iter 4300: -0.0022504377638318807\n",
      "Gradient at iter 4400: -0.0019858490761029968\n",
      "Gradient at iter 4500: -0.0017523686353112522\n",
      "Gradient at iter 4600: -0.0015463389796210314\n",
      "Gradient at iter 4700: -0.001364532662655571\n",
      "Gradient at iter 4800: -0.001204101695677362\n",
      "Gradient at iter 4900: -0.001062532933958471\n",
      "Gradient at iter 5000: -0.0009376087084661533\n",
      "Gradient at iter 5100: -0.0008273720861682876\n",
      "Gradient at iter 5200: -0.0007300962147529511\n",
      "Gradient at iter 5300: -0.0006442572715563699\n",
      "Gradient at iter 5400: -0.0005685105929408296\n",
      "Gradient at iter 5500: -0.0005016696101934892\n",
      "Gradient at iter 5600: -0.0004426872619733291\n",
      "Gradient at iter 5700: -0.00039063959213669897\n",
      "Gradient at iter 5800: -0.0003447112760020521\n",
      "Gradient at iter 5900: -0.0003041828483208997\n",
      "Gradient at iter 6000: -0.00026841943288213876\n",
      "Gradient at iter 6100: -0.00023686079720308673\n",
      "Gradient at iter 6200: -0.000209012576508516\n",
      "Gradient at iter 6300: -0.00018443852952704232\n",
      "Gradient at iter 6400: -0.00016275370478840978\n",
      "Gradient at iter 6500: -0.00014361841037352496\n",
      "Gradient at iter 6600: -0.00012673289265541232\n",
      "Gradient at iter 6700: -0.00011183264066949583\n",
      "Gradient at iter 6800: -9.868424255971009e-05\n",
      "Gradient at iter 6900: -8.708172919164037e-05\n",
      "Gradient at iter 7000: -7.684334765434286e-05\n",
      "Gradient at iter 7100: -6.780871410733136e-05\n",
      "Gradient at iter 7200: -5.98363013748493e-05\n",
      "Gradient at iter 7300: -5.280122192774517e-05\n",
      "Gradient at iter 7400: -4.659327152545245e-05\n",
      "Gradient at iter 7500: -4.111520287242154e-05\n",
      "Gradient at iter 7600: -3.628120224014042e-05\n",
      "Gradient at iter 7700: -3.201554519999261e-05\n",
      "Gradient at iter 7800: -2.8251410404578348e-05\n",
      "Gradient at iter 7900: -2.4929832831754872e-05\n",
      "Gradient at iter 8000: -2.199878010034073e-05\n",
      "Gradient at iter 8100: -1.941233738583792e-05\n",
      "Gradient at iter 8200: -1.7129988166220134e-05\n",
      "Gradient at iter 8300: -1.5115979530688772e-05\n",
      "Gradient at iter 8400: -1.3338762114567526e-05\n",
      "Gradient at iter 8500: -1.177049587730572e-05\n",
      "Gradient at iter 8600: -1.0386613990831517e-05\n",
      "Gradient at iter 8700: -9.165438000113824e-06\n",
      "Gradient at iter 8800: -8.087838231918276e-06\n",
      "Gradient at iter 8900: -7.136934128293415e-06\n",
      "Gradient at iter 9000: -6.297829814372324e-06\n",
      "Gradient at iter 9100: -5.5573807547504295e-06\n",
      "Gradient at iter 9200: -4.903987843918323e-06\n",
      "Gradient at iter 9300: -4.327415708160753e-06\n",
      "Gradient at iter 9400: -3.818632367424968e-06\n",
      "Gradient at iter 9500: -3.369667750829919e-06\n",
      "Gradient at iter 9600: -2.9734888463694986e-06\n",
      "Gradient at iter 9700: -2.6238895264318884e-06\n",
      "Gradient at iter 9800: -2.315393331508986e-06\n",
      "Gradient at iter 9900: -2.043167681597957e-06\n",
      "Gradient at iter 10000: -1.8029481719250562e-06\n",
      "Gradient =  -1.8029481719250562e-06\n",
      "Iter=  10000\n"
     ]
    },
    {
     "data": {
      "text/plain": [
       "3.999986"
      ]
     },
     "execution_count": 3,
     "metadata": {},
     "output_type": "execute_result"
    }
   ],
   "source": [
    "gradient_descent(3,12, normalize=True)"
   ]
  },
  {
   "cell_type": "code",
   "execution_count": 4,
   "metadata": {},
   "outputs": [
    {
     "name": "stdout",
     "output_type": "stream",
     "text": [
      "a =  0.7583339691477492\n",
      "Gradient at iter 100: -0.11664110053404164\n",
      "Gradient at iter 200: -0.03315599294129107\n",
      "Gradient at iter 300: -0.009424807061059193\n",
      "Gradient at iter 400: -0.0026790628257002957\n",
      "Gradient at iter 500: -0.0007615410668408429\n",
      "Gradient at iter 600: -0.00021647301098037808\n",
      "Gradient at iter 700: -6.15338640598817e-05\n",
      "Gradient at iter 800: -1.74914018563066e-05\n",
      "Gradient at iter 900: -4.9720449638024355e-06\n",
      "Gradient at iter 1000: -1.4133361823098767e-06\n",
      "Gradient =  -9.937666032300285e-07\n",
      "Iter=  1028\n"
     ]
    },
    {
     "data": {
      "text/plain": [
       "3.999992"
      ]
     },
     "execution_count": 4,
     "metadata": {},
     "output_type": "execute_result"
    }
   ],
   "source": [
    "gradient_descent(3,12, normalize=True, verbose=1, learning_rate=0.1)"
   ]
  },
  {
   "cell_type": "code",
   "execution_count": 5,
   "metadata": {},
   "outputs": [
    {
     "name": "stdout",
     "output_type": "stream",
     "text": [
      "a =  0.4502791806853407\n",
      "Gradient =  -9.173335264733851e-07\n",
      "Iter=  92\n"
     ]
    },
    {
     "data": {
      "text/plain": [
       "4.0"
      ]
     },
     "execution_count": 5,
     "metadata": {},
     "output_type": "execute_result"
    }
   ],
   "source": [
    "gradient_descent(3,12, normalize=False, verbose=1)"
   ]
  },
  {
   "cell_type": "code",
   "execution_count": 6,
   "metadata": {},
   "outputs": [
    {
     "name": "stdout",
     "output_type": "stream",
     "text": [
      "a =  0.08874019944023559\n",
      "Gradient at iter 100: -0.0008554628509829243\n",
      "Gradient =  -9.977349137990643e-07\n",
      "Iter=  181\n"
     ]
    },
    {
     "data": {
      "text/plain": [
       "0.5"
      ]
     },
     "execution_count": 6,
     "metadata": {},
     "output_type": "execute_result"
    }
   ],
   "source": [
    "gradient_descent(1200,600, normalize=True)"
   ]
  },
  {
   "cell_type": "code",
   "execution_count": 7,
   "metadata": {},
   "outputs": [
    {
     "name": "stdout",
     "output_type": "stream",
     "text": [
      "a =  0.04017267847081496\n",
      "Gradient at iter 100: -0.018106680037509905\n",
      "Gradient at iter 200: -0.016382781908239524\n",
      "Gradient at iter 300: -0.014823012418451664\n",
      "Gradient at iter 400: -0.013411745232784057\n",
      "Gradient at iter 500: -0.012134841765712744\n",
      "Gradient at iter 600: -0.010979509536084349\n",
      "Gradient at iter 700: -0.009934174007409199\n",
      "Gradient at iter 800: -0.008988362629964965\n",
      "Gradient at iter 900: -0.00813259992300263\n",
      "Gradient at iter 1000: -0.007358312545950332\n",
      "Gradient at iter 1100: -0.006657743407584145\n",
      "Gradient at iter 1200: -0.006023873952680188\n",
      "Gradient at iter 1300: -0.0054503538475878565\n",
      "Gradient at iter 1400: -0.004931437360288487\n",
      "Gradient at iter 1500: -0.004461925797572193\n",
      "Gradient at iter 1600: -0.004037115422647386\n",
      "Gradient at iter 1700: -0.0036527503314030076\n",
      "Gradient at iter 1800: -0.0033049798152204367\n",
      "Gradient at iter 1900: -0.0029903197831807637\n",
      "Gradient at iter 2000: -0.002705617857180711\n",
      "Gradient at iter 2100: -0.002448021790267727\n",
      "Gradient at iter 2200: -0.002214950891797476\n",
      "Gradient at iter 2300: -0.0020040701731408707\n",
      "Gradient at iter 2400: -0.0018132669549226655\n",
      "Gradient at iter 2500: -0.001640629701434826\n",
      "Gradient at iter 2600: -0.0014844288701797458\n",
      "Gradient at iter 2700: -0.0013430995846875082\n",
      "Gradient at iter 2800: -0.0012152259570169322\n",
      "Gradient at iter 2900: -0.001099526902877661\n",
      "Gradient at iter 3000: -0.0009948433072639795\n",
      "Gradient at iter 3100: -0.0009001264120210895\n",
      "Gradient at iter 3200: -0.0008144273090063181\n",
      "Gradient at iter 3300: -0.0007368874335838705\n",
      "Gradient at iter 3400: -0.0006667299632134705\n",
      "Gradient at iter 3500: -0.0006032520349609705\n",
      "Gradient at iter 3600: -0.0005458177039630585\n",
      "Gradient at iter 3700: -0.0004938515723014115\n",
      "Gradient at iter 3800: -0.0004468330244580665\n",
      "Gradient at iter 3900: -0.00040429101160072145\n",
      "Gradient at iter 4000: -0.00036579933244498933\n",
      "Gradient at iter 4100: -0.0003309723634156714\n",
      "Gradient at iter 4200: -0.0002994611953301574\n",
      "Gradient at iter 4300: -0.00027095013790001454\n",
      "Gradient at iter 4400: -0.00024515355703132126\n",
      "Gradient at iter 4500: -0.0002218130132389251\n",
      "Gradient at iter 4600: -0.00020069467250620975\n",
      "Gradient at iter 4700: -0.0001815869636511791\n",
      "Gradient at iter 4800: -0.00016429845872980797\n",
      "Gradient at iter 4900: -0.0001486559552416167\n",
      "Gradient at iter 5000: -0.00013450274092430048\n",
      "Gradient at iter 5100: -0.00012169702375357972\n",
      "Gradient at iter 5200: -0.00011011051141934126\n",
      "Gradient at iter 5300: -9.962712604688617e-05\n",
      "Gradient at iter 5400: -9.014184128674164e-05\n",
      "Gradient at iter 5500: -8.15596301226007e-05\n",
      "Gradient at iter 5600: -7.379451285642658e-05\n",
      "Gradient at iter 5700: -6.676869573257083e-05\n",
      "Gradient at iter 5800: -6.0411791571866046e-05\n",
      "Gradient at iter 5900: -5.4660114607294475e-05\n",
      "Gradient at iter 6000: -4.9456042457014516e-05\n",
      "Gradient at iter 6100: -4.474743884242738e-05\n",
      "Gradient at iter 6200: -4.048713126806547e-05\n",
      "Gradient at iter 6300: -3.6632438430506124e-05\n",
      "Gradient at iter 6400: -3.314474262154476e-05\n",
      "Gradient at iter 6500: -2.998910284206735e-05\n",
      "Gradient at iter 6600: -2.7133904750482608e-05\n",
      "Gradient at iter 6700: -2.455054393875722e-05\n",
      "Gradient at iter 6800: -2.221313936315861e-05\n",
      "Gradient at iter 6900: -2.009827405851983e-05\n",
      "Gradient at iter 7000: -1.8184760538695332e-05\n",
      "Gradient at iter 7100: -1.6453428532545722e-05\n",
      "Gradient at iter 7200: -1.4886932929345509e-05\n",
      "Gradient at iter 7300: -1.3469580009084492e-05\n",
      "Gradient at iter 7400: -1.2187170217154986e-05\n",
      "Gradient at iter 7500: -1.1026855908011779e-05\n",
      "Gradient at iter 7600: -9.977012632915728e-06\n",
      "Gradient at iter 7700: -9.027122681906085e-06\n",
      "Gradient at iter 7800: -8.167669713627923e-06\n",
      "Gradient at iter 7900: -7.390043417101478e-06\n",
      "Gradient at iter 8000: -6.686453250621671e-06\n",
      "Gradient at iter 8100: -6.049850393203826e-06\n",
      "Gradient at iter 8200: -5.473857126980786e-06\n",
      "Gradient at iter 8300: -4.952702942915277e-06\n",
      "Gradient at iter 8400: -4.481166729737307e-06\n",
      "Gradient at iter 8500: -4.054524466985399e-06\n",
      "Gradient at iter 8600: -3.668501898004273e-06\n",
      "Gradient at iter 8700: -3.319231708984738e-06\n",
      "Gradient at iter 8800: -3.0032147847536274e-06\n",
      "Gradient at iter 8900: -2.7172851533463493e-06\n",
      "Gradient at iter 9000: -2.4585782682118307e-06\n",
      "Gradient at iter 9100: -2.224502310155252e-06\n",
      "Gradient at iter 9200: -2.012712221461932e-06\n",
      "Gradient at iter 9300: -1.8210862123901882e-06\n",
      "Gradient at iter 9400: -1.647704504181835e-06\n",
      "Gradient at iter 9500: -1.4908300961513632e-06\n",
      "Gradient at iter 9600: -1.3488913636794386e-06\n",
      "Gradient at iter 9700: -1.2204663131765158e-06\n",
      "Gradient at iter 9800: -1.104268335971881e-06\n",
      "Gradient at iter 9900: -9.991333186931684e-07\n",
      "Gradient =  -9.991333186931684e-07\n",
      "Iter=  9900\n"
     ]
    },
    {
     "data": {
      "text/plain": [
       "99.995009"
      ]
     },
     "execution_count": 7,
     "metadata": {},
     "output_type": "execute_result"
    }
   ],
   "source": [
    "gradient_descent(8,800, learning_rate=5,normalize=True)"
   ]
  },
  {
   "cell_type": "markdown",
   "metadata": {},
   "source": [
    "#### Lets see what happens when gradient > old_gradient"
   ]
  },
  {
   "cell_type": "code",
   "execution_count": 8,
   "metadata": {},
   "outputs": [
    {
     "name": "stdout",
     "output_type": "stream",
     "text": [
      "a =  0.9208987092755816\n",
      "Gradient became bigger and bigger\n",
      "Gradient difference: 443.3905858643162\n",
      "Gradient =  443.3905858643162\n",
      "Iter=  1\n"
     ]
    },
    {
     "data": {
      "text/plain": [
       "28.63281"
      ]
     },
     "execution_count": 8,
     "metadata": {},
     "output_type": "execute_result"
    }
   ],
   "source": [
    "gradient_descent(3,12, learning_rate=0.5) "
   ]
  },
  {
   "cell_type": "code",
   "execution_count": 9,
   "metadata": {},
   "outputs": [
    {
     "name": "stdout",
     "output_type": "stream",
     "text": [
      "a =  0.8116203599385242\n",
      "Gradient became bigger and bigger\n",
      "Gradient difference: 396655.09341745573\n",
      "Gradient =  396655.09341745573\n",
      "Iter=  1\n",
      "a =  0.6840928544764623\n",
      "Gradient became bigger and bigger\n",
      "Gradient difference: 74486.74615259876\n",
      "Gradient =  74486.74615259876\n",
      "Iter=  1\n",
      "a =  0.097138319861102\n",
      "Gradient =  -7.147928045014851e-07\n",
      "Iter=  19\n",
      "a =  0.1682489290380469\n",
      "Gradient at iter 100: -0.008238499625804252\n",
      "Gradient =  -9.77093804976903e-07\n",
      "Iter=  166\n"
     ]
    },
    {
     "data": {
      "text/plain": [
       "(0, 100)"
      ]
     },
     "execution_count": 9,
     "metadata": {},
     "output_type": "execute_result"
    },
    {
     "data": {
      "image/png": "[encoded data removed]",
      "text/plain": [
       "<Figure size 432x288 with 1 Axes>"
      ]
     },
     "metadata": {
      "needs_background": "light"
     },
     "output_type": "display_data"
    }
   ],
   "source": [
    "for lr in [0.5, 0.1, 0.01, 0.001]:\n",
    "    _, errors = gradient_descent(8, 400, learning_rate=lr, return_errors=True)\n",
    "    plt.plot(errors, label=f'lr={lr}')\n",
    "    \n",
    "plt.legend()\n",
    "plt.ylim(0, 100)\n"
   ]
  },
  {
   "cell_type": "markdown",
   "metadata": {},
   "source": [
    "![gradient descent](http://www.cs.us.es/~fsancho/images/2017-02/gradient_descent.gif)"
   ]
  },
  {
   "cell_type": "code",
   "execution_count": null,
   "metadata": {},
   "outputs": [],
   "source": []
  }
 ],
 "metadata": {
  "kernelspec": {
   "display_name": "Python 3.7.4 Base",
   "language": "python",
   "name": "python3"
  },
  "language_info": {
   "codemirror_mode": {
    "name": "ipython",
    "version": 3
   },
   "file_extension": ".py",
   "mimetype": "text/x-python",
   "name": "python",
   "nbconvert_exporter": "python",
   "pygments_lexer": "ipython3",
   "version": "3.7.4"
  }
 },
 "nbformat": 4,
 "nbformat_minor": 2
}
